{
 "cells": [
  {
   "cell_type": "markdown",
   "metadata": {
    "id": "KZgn08dVbjeO"
   },
   "source": [
    "# Preprocess"
   ]
  },
  {
   "cell_type": "code",
   "execution_count": null,
   "metadata": {
    "colab": {
     "base_uri": "https://localhost:8080/"
    },
    "id": "KUY1K0LvxU8h",
    "outputId": "533a9e87-352d-4fd0-f2b4-b9dd61ae5af2"
   },
   "outputs": [
    {
     "name": "stdout",
     "output_type": "stream",
     "text": [
      "Mounted at /content/drive\n"
     ]
    }
   ],
   "source": [
    "import json\n",
    "import glob\n",
    "import os\n",
    "\n",
    "from google.colab import drive\n",
    "drive.mount('/content/drive', force_remount=True)"
   ]
  },
  {
   "cell_type": "code",
   "execution_count": null,
   "metadata": {
    "id": "RxIptJEFs04g"
   },
   "outputs": [],
   "source": [
    "project_root = 'drive/My Drive/11785 Team Project/'\n",
    "poem_root = os.path.join(project_root, 'chinese-poetry/json')\n",
    "strain_root = os.path.join(project_root, 'chinese-poetry/strains/json')\n",
    "poems_tsv = os.path.join(project_root, 'poems.tsv')\n",
    "\n",
    "def parse_json():\n",
    "    tang_poem_json = sorted(glob.glob(os.path.join(poem_root, 'poet.tang.[0-9]*.json')))\n",
    "    tang_strain_json = sorted(glob.glob(os.path.join(strain_root, 'poet.tang.[0-9]*.json')))\n",
    "    song_poem_json = sorted(glob.glob(os.path.join(poem_root, 'poet.song.[0-9]*.json')))\n",
    "    song_strain_json = sorted(glob.glob(os.path.join(strain_root, 'poet.song.[0-9]*.json')))\n",
    "    \n",
    "    with open(poems_tsv, 'w') as w:\n",
    "        w.write('Title\\tDynasty\\tType\\tContent\\tStrain\\n')\n",
    "        parse_poems_strains(w, tang_poem_json, tang_strain_json, 'Tang')\n",
    "        parse_poems_strains(w, song_poem_json, song_strain_json, 'Song')\n",
    "\n",
    "def parse_poems_strains(w, poem_json, strain_json, dynasty):\n",
    "    # iterate every json file\n",
    "    for i in range(len(poem_json)):\n",
    "        poems = poem_json[i]\n",
    "        strains = strain_json[i]\n",
    "        # open one poem and strain json file\n",
    "        with open(strains, 'r') as f_s:\n",
    "            with open(poems, 'r') as f_p:\n",
    "                str_data_p = f_p.read()\n",
    "                str_data_s = f_s.read()\n",
    "                dict_data_p = json.loads(str_data_p)\n",
    "                dict_data_s = json.loads(str_data_s)\n",
    "                # iterate every poem in a json file\n",
    "                for j in range(len(dict_data_p)):\n",
    "                    # iterate every line in a poem\n",
    "                    parsed_poem = parse_poem(dict_data_p[j], dynasty)\n",
    "                    if parsed_poem != '':\n",
    "                        parsed_strain = parse_strain(dict_data_s[j])\n",
    "                        w.write(parsed_poem + parsed_strain + '\\n')\n",
    "\n",
    "def parse_strain(strain):\n",
    "    res = ''\n",
    "    content = strain['strains']\n",
    "    for i in range(len(content)):\n",
    "        res += content[i]\n",
    "    return res\n",
    "\n",
    "def parse_poem(poem, dynasty):\n",
    "    res = ''\n",
    "    content = poem['paragraphs']\n",
    "\n",
    "    # jueju_5 has 2 sentences and length 12 if plus comma and period each sentence\n",
    "    # jueju_7 has 2 sentences and length 16 if plus comma and period each sentence\n",
    "    if (len(content) != 2 or len(content[0]) != 12 or len(content[1]) != 12) and (len(content) != 2 or len(content[0]) != 16 or len(content[1]) != 16):\n",
    "        return res\n",
    "    \n",
    "    res += poem['title']\n",
    "    res += '\\t'\n",
    "\n",
    "    if dynasty == 'Tang':\n",
    "        res += '唐\\t'\n",
    "    elif dynasty == 'Song':\n",
    "        res += '宋\\t'\n",
    "\n",
    "    if (len(content[0]) == 12):\n",
    "        res += '五言绝句\\t'\n",
    "    elif (len(content[0]) == 16):\n",
    "        res += '七言绝句\\t'\n",
    "\n",
    "    # res += '【'\n",
    "    for i in range(len(content)):\n",
    "        res += content[i]\n",
    "    # res += '】'\n",
    "    res += '\\t'\n",
    "    \n",
    "    return res"
   ]
  },
  {
   "cell_type": "code",
   "execution_count": null,
   "metadata": {
    "id": "YPhNQZgI0n8s"
   },
   "outputs": [],
   "source": [
    "parse_json()"
   ]
  },
  {
   "cell_type": "markdown",
   "metadata": {
    "id": "k__zTCtzeLv2"
   },
   "source": [
    "# Word2Vec"
   ]
  },
  {
   "cell_type": "code",
   "execution_count": null,
   "metadata": {
    "colab": {
     "base_uri": "https://localhost:8080/"
    },
    "id": "aCrDLwzJXwMT",
    "outputId": "6461dd52-fe0d-478c-d859-38bdae288a7a"
   },
   "outputs": [
    {
     "name": "stdout",
     "output_type": "stream",
     "text": [
      "Requirement already satisfied: panda in /usr/local/lib/python3.6/dist-packages (0.3.1)\n",
      "Requirement already satisfied: requests in /usr/local/lib/python3.6/dist-packages (from panda) (2.23.0)\n",
      "Requirement already satisfied: setuptools in /usr/local/lib/python3.6/dist-packages (from panda) (50.3.0)\n",
      "Requirement already satisfied: certifi>=2017.4.17 in /usr/local/lib/python3.6/dist-packages (from requests->panda) (2020.6.20)\n",
      "Requirement already satisfied: chardet<4,>=3.0.2 in /usr/local/lib/python3.6/dist-packages (from requests->panda) (3.0.4)\n",
      "Requirement already satisfied: urllib3!=1.25.0,!=1.25.1,<1.26,>=1.21.1 in /usr/local/lib/python3.6/dist-packages (from requests->panda) (1.24.3)\n",
      "Requirement already satisfied: idna<3,>=2.5 in /usr/local/lib/python3.6/dist-packages (from requests->panda) (2.10)\n",
      "Collecting opencc\n",
      "\u001b[?25l  Downloading https://files.pythonhosted.org/packages/d5/b4/24e677e135df130fc6989929dc3990a1ae19948daf28beb8f910b4f7b671/OpenCC-1.1.1.post1-py2.py3-none-manylinux1_x86_64.whl (1.3MB)\n",
      "\u001b[K     |████████████████████████████████| 1.3MB 3.5MB/s \n",
      "\u001b[?25hInstalling collected packages: opencc\n",
      "Successfully installed opencc-1.1.1.post1\n"
     ]
    }
   ],
   "source": [
    "!pip install panda\n",
    "!pip install opencc\n",
    "import torch.nn as nn\n",
    "import codecs\n",
    "import os\n",
    "import numpy as np\n",
    "import bz2"
   ]
  },
  {
   "cell_type": "code",
   "execution_count": null,
   "metadata": {
    "colab": {
     "base_uri": "https://localhost:8080/"
    },
    "id": "--aOPI8Y4LpB",
    "outputId": "47b3d5c1-f242-4fe0-f008-552a4dd1db59"
   },
   "outputs": [
    {
     "name": "stdout",
     "output_type": "stream",
     "text": [
      "300 19527\n"
     ]
    }
   ],
   "source": [
    "project_root = 'drive/My Drive/11785 Team Project/'\n",
    "path_to_embedding = os.path.join(project_root, 'sgns.sikuquanshu.bigram.bz2')\n",
    "\n",
    "def load_dense_drop_repeat(path):\n",
    "    vocab_size, size = 0, 0\n",
    "    vocab = {}\n",
    "    vocab[\"i2w\"], vocab[\"w2i\"] = [], {}\n",
    "    count = 0\n",
    "    with bz2.open(path, \"r\") as content:\n",
    "      # with codecs.open(input_file, \"r\", encoding=\"utf-8\") as content:\n",
    "        first_line = True\n",
    "        for line in content:\n",
    "            if first_line:\n",
    "                first_line = False\n",
    "                vocab_size = int(line.strip().split()[0])\n",
    "                size = int(line.rstrip().split()[1])\n",
    "                matrix = np.zeros(shape=(vocab_size, size), dtype=np.float32)\n",
    "                continue\n",
    "            vec = line.strip().split()\n",
    "            if not vocab[\"w2i\"].__contains__(vec[0]):\n",
    "                vocab[\"w2i\"][vec[0]] = count\n",
    "                matrix[count, :] = np.array([float(x) for x in vec[1:]])\n",
    "                count += 1\n",
    "    for w, i in vocab[\"w2i\"].items():\n",
    "        # if i <= 5000:\n",
    "        #     print('i: {} w: {}'.format(i, w.decode('utf-8')))\n",
    "        vocab[\"i2w\"].append(w)\n",
    "    return matrix, vocab, size, len(vocab[\"i2w\"])\n",
    "\n",
    "matrix, vocab, size, unique_size = load_dense_drop_repeat(path_to_embedding)\n",
    "\n",
    "# Load saved embedding.\n",
    "# embedding_matrix = np.load(path_to_embedding)\n",
    "# embedding = nn.Embedding(vocab_size, embedding_size)\n",
    "# embedding.weight.data.copy_(torch.from_numpy(embedding))\n",
    "# embedding.weight.requires_grad = True"
   ]
  },
  {
   "cell_type": "code",
   "execution_count": null,
   "metadata": {
    "colab": {
     "base_uri": "https://localhost:8080/"
    },
    "id": "M-ndKJ3yWvjs",
    "outputId": "b28136ae-660b-44a4-8651-57ab315fa8a9"
   },
   "outputs": [
    {
     "name": "stdout",
     "output_type": "stream",
     "text": [
      "1509 342859\n",
      "67118 101164\n"
     ]
    }
   ],
   "source": [
    "import pandas as pd\n",
    "import opencc\n",
    "import re\n",
    "import numpy as np\n",
    "\n",
    "# Load input data, transfer traditional chinese to simplified chinese, split \n",
    "# it into words, transfer to vectors.\n",
    "project_root = 'drive/My Drive/11785 Team Project/'\n",
    "file_name = 'poems.tsv'\n",
    "converter = opencc.OpenCC('t2s.json')\n",
    "file = pd.read_csv(''.join((project_root, file_name)), sep='\\t', header=0)\n",
    "\n",
    "type = file['Type']\n",
    "cnt = 0\n",
    "total = 0\n",
    "vector = []  # N * 300, each line is a character.\n",
    "for idx, poem in enumerate(file['Content']):\n",
    "    if type[idx] != \"五言绝句\":\n",
    "        continue\n",
    "    lines = poem.strip()\n",
    "    lines = lines.replace('？','')\n",
    "    lines = re.split('，|\\。',lines)\n",
    "    tmp = []\n",
    "    err_cnt = 0\n",
    "    for line in lines:\n",
    "        if not line:\n",
    "            # Skip empty lines.\n",
    "            continue\n",
    "        simplify_line = converter.convert(line)\n",
    "        for ch in simplify_line:\n",
    "            ch_encode = ch.encode('utf-8')\n",
    "            if ch_encode not in vocab[\"w2i\"]:\n",
    "                # Do not have this character in dictionary.\n",
    "                err_cnt += 1\n",
    "            else:\n",
    "                tmp.append(matrix[vocab[\"w2i\"][ch_encode]])\n",
    "        if err_cnt == 0:\n",
    "            # Only add valid poems.\n",
    "            vector.append(tmp)\n",
    "        cnt += err_cnt\n",
    "        total += len(simplify_line)\n",
    "        \n",
    "# print(cnt, total)  # Invalid character cnt and total cnt.\n",
    "# print(len(vector), len(file['Content']))\n",
    "# print(vector.shape, vector)"
   ]
  },
  {
   "cell_type": "markdown",
   "metadata": {
    "id": "eCtEaYw73ocT"
   },
   "source": [
    "# Generate train.txt and valid.txt for TXL model"
   ]
  },
  {
   "cell_type": "code",
   "execution_count": null,
   "metadata": {
    "id": "xsWX2SWCgYSN"
   },
   "outputs": [],
   "source": [
    "def generateFile(validateNum):\n",
    "  from google.colab import auth\n",
    "  auth.authenticate_user()\n",
    "  import gspread\n",
    "  from oauth2client.client  import GoogleCredentials\n",
    "  gc = gspread.authorize(GoogleCredentials.get_application_default())\n",
    "  import pandas as pd\n",
    "  import matplotlib.pyplot as plt\n",
    "  ## please modify the url link when you open the google sheet of in for \"poems\" in google drive\n",
    "  wb = gc.open_by_url('https://docs.google.com/spreadsheets/d/11LGwfUQ3x9KqASimVvgYAZwdZUz8qMYeJWfvvNqP2ec/edit#gid=253898745')\n",
    "  sheet = wb.worksheet('poems')\n",
    "  data = sheet.get_all_values()\n",
    "  df = pd.DataFrame(data)\n",
    "  df.columns = df.iloc[0]\n",
    "  df = df.iloc[1:]\n",
    "  df.head()\n",
    "  import numpy as np\n",
    "  train = df['Content'][:len(df) - validateNum]\n",
    "  validate = df['Content'][-validateNum:]\n",
    "  from itertools import islice\n",
    "  with open('/content/transformer-xl-chinese/data/11785Shi/train.txt', 'w') as w:\n",
    "    for index, row in df.iloc[0:len(df) - validateNum].iterrows():\n",
    "      content = ''\n",
    "      content += row[\"Content\"]\n",
    "      w.write(content+'\\n')\n",
    "      \n",
    "\n",
    "      \n",
    "  with open('/content/transformer-xl-chinese/data/11785Shi/valid.txt', 'w') as w:\n",
    "    for index, row in df.iloc[-validateNum:].iterrows():\n",
    "      content = ''\n",
    "      content += row[\"Content\"]\n",
    "      w.write(content+'\\n')"
   ]
  },
  {
   "cell_type": "code",
   "execution_count": null,
   "metadata": {
    "id": "ZgZbyDzlgaSa"
   },
   "outputs": [],
   "source": []
  }
 ],
 "metadata": {
  "accelerator": "GPU",
  "colab": {
   "collapsed_sections": [],
   "name": "preprocess.ipynb",
   "provenance": [],
   "toc_visible": true
  },
  "kernelspec": {
   "display_name": "Python 3",
   "language": "python",
   "name": "python3"
  },
  "language_info": {
   "codemirror_mode": {
    "name": "ipython",
    "version": 3
   },
   "file_extension": ".py",
   "mimetype": "text/x-python",
   "name": "python",
   "nbconvert_exporter": "python",
   "pygments_lexer": "ipython3",
   "version": "3.7.7"
  }
 },
 "nbformat": 4,
 "nbformat_minor": 1
}
